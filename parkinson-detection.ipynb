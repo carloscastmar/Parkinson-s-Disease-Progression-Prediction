{
 "cells": [
  {
   "cell_type": "code",
   "execution_count": 14,
   "metadata": {},
   "outputs": [],
   "source": [
    "# Import libraries\n",
    "import pandas as pd\n",
    "import numpy as np\n",
    "from sklearn.linear_model import LinearRegression\n",
    "from xgboost import XGBRegressor\n",
    "\n",
    "# Load train datasets\n",
    "train_proteins = pd.read_csv(\"./input/train_proteins.csv\")\n",
    "train_clinical = pd.read_csv(\"./input/train_clinical_data.csv\")\n",
    "train_peptides = pd.read_csv(\"./input/train_peptides.csv\")\n",
    "supplemental_clinical = pd.read_csv(\"./input/supplemental_clinical_data.csv\")\n",
    "\n",
    "# Load test datasets\n",
    "test_clinical = pd.read_csv(\"./example_test_files/test.csv\")\n",
    "test_proteins = pd.read_csv(\"./example_test_files/test_proteins.csv\")\n",
    "test_peptides = pd.read_csv(\"./example_test_files/test_peptides.csv\")"
   ]
  },
  {
   "cell_type": "code",
   "execution_count": 15,
   "metadata": {},
   "outputs": [],
   "source": [
    "# Pivot the proteins and peptides tables so each protein and peptide is a feature\n",
    "train_proteins = train_proteins.pivot_table(values=\"NPX\", index=\"visit_id\", columns=\"UniProt\")\n",
    "train_peptides = train_peptides.pivot_table(values=\"PeptideAbundance\", index=\"visit_id\", columns=\"Peptide\")\n",
    "\n",
    "# Merge the three tables\n",
    "train = train_clinical.merge(train_proteins, on=\"visit_id\", how=\"left\")  \\\n",
    "                      .merge(train_peptides, on=\"visit_id\", how=\"left\")\n",
    "                      \n",
    "# Set the patient id as index\n",
    "train = train.set_index([\"patient_id\"])\n",
    "\n",
    "# Drop the visit id column\n",
    "train = train.drop(\"visit_id\", axis=1)"
   ]
  },
  {
   "cell_type": "code",
   "execution_count": 16,
   "metadata": {},
   "outputs": [],
   "source": [
    "# Pivot the proteins and peptides tables so each protein and peptide is a feature\n",
    "test_proteins = test_proteins.pivot_table(values=\"NPX\", index=\"patient_id\", columns=\"UniProt\")\n",
    "test_peptides = test_peptides.pivot_table(values=\"PeptideAbundance\", index=\"patient_id\", columns=\"Peptide\")\n",
    "\n",
    "# Set the patient id as index\n",
    "test_clinical = test_clinical.set_index([\"patient_id\"])\n",
    "\n",
    "# Merge the three tables\n",
    "test = test_proteins.merge(test_peptides, on=\"patient_id\", how=\"left\")"
   ]
  },
  {
   "cell_type": "code",
   "execution_count": 17,
   "metadata": {},
   "outputs": [],
   "source": [
    "# Create a list of common columns\n",
    "train_cols = train.columns.values[6:]\n",
    "test_cols = test.columns.values\n",
    "cols = list(set(train_cols) & set(test_cols))\n",
    "\n",
    "# Use only common columns\n",
    "train = train[list(train.columns.values[:5]) + cols]\n",
    "test = test[cols]"
   ]
  },
  {
   "cell_type": "code",
   "execution_count": 18,
   "metadata": {},
   "outputs": [],
   "source": [
    "# Fill updrs and state of medication values\n",
    "train.updrs_4 = train.updrs_4.fillna(0).round()\n",
    "\n",
    "# Create a list of the ids of the patients\n",
    "patient_id = list(train.index.unique())\n",
    "\n",
    "# Interpolate the missing data of every patient\n",
    "for patient in patient_id:\n",
    "    train.loc[patient] = train.loc[patient].interpolate(method=\"linear\").fillna(method=\"bfill\")\n",
    "    \n",
    "# Fill the remaining na values with the mean of the columns\n",
    "train = train.fillna(train.mean())"
   ]
  },
  {
   "cell_type": "code",
   "execution_count": 19,
   "metadata": {},
   "outputs": [],
   "source": [
    "# Create a list of the ids of the patients\n",
    "patient_id_test = list(test.index.unique())\n",
    "\n",
    "# Interpolate the missing data of every patient\n",
    "for patient in patient_id_test:\n",
    "    test.loc[patient] = test.loc[patient].interpolate(method=\"linear\").fillna(method=\"bfill\")\n",
    "\n",
    "# Fill the remaining na values with the mean of the columns\n",
    "test = test.fillna(test.mean())"
   ]
  },
  {
   "cell_type": "code",
   "execution_count": 20,
   "metadata": {},
   "outputs": [],
   "source": [
    "# Normalize all the columns values from the train and the test dataset\n",
    "for col in cols:\n",
    "    values_list = np.array(list(train[col]) + list(test[col]))\n",
    "    train[col] = (train[col] - values_list.min()) / (values_list.max() - values_list.min())\n",
    "    test[col] = (test[col] - values_list.min()) / (values_list.max() - values_list.min())"
   ]
  },
  {
   "cell_type": "code",
   "execution_count": 21,
   "metadata": {},
   "outputs": [],
   "source": [
    "# Define a list with symptoms\n",
    "updrs_cols = ['updrs_1','updrs_2','updrs_3','updrs_4']"
   ]
  },
  {
   "cell_type": "code",
   "execution_count": 22,
   "metadata": {},
   "outputs": [],
   "source": [
    "# Empty dict for slopes\n",
    "updrs_slopes = {}\n",
    "\n",
    "# Slope and intercept for every patient and updrs\n",
    "for patient in patient_id:\n",
    "    \n",
    "    # Create empty dicts of lists\n",
    "    updrs_slopes[patient] = []\n",
    "    \n",
    "    for updrs in updrs_cols:\n",
    "        \n",
    "        X = train.loc[patient]['visit_month'].values.reshape(-1, 1)\n",
    "        y = train.loc[patient][updrs].values.reshape(-1, 1)\n",
    "        lr = LinearRegression()\n",
    "        lr.fit(X, y)\n",
    "        updrs_slopes[patient].append(float(lr.coef_))\n",
    "\n",
    "# Create df for slopes\n",
    "slopes_df = pd.DataFrame.from_dict(updrs_slopes, orient=\"index\", columns=[s + \"_slope\" for s in updrs_cols])\n",
    "\n",
    "# Merge all the data in the train data frame\n",
    "train = train.merge(slopes_df, how=\"left\", left_index=True, right_index=True)"
   ]
  },
  {
   "cell_type": "code",
   "execution_count": 23,
   "metadata": {},
   "outputs": [],
   "source": [
    "# Create dictionaries to store the models\n",
    "updrs_predictors = {}\n",
    "updrs_slopes_predictors = {}\n",
    "\n",
    "# Define X\n",
    "X = train.iloc[:, 5:-4]\n",
    "\n",
    "# Train a model per each symptom\n",
    "for updrs in updrs_cols:\n",
    "    updrs_predictors[updrs] = XGBRegressor()\n",
    "    updrs_predictors[updrs].fit(X, train.loc[:,updrs])\n",
    "    \n",
    "# Train a model for each slope\n",
    "for updrs in updrs_cols:\n",
    "    updrs_slopes_predictors[updrs] = XGBRegressor()\n",
    "    updrs_slopes_predictors[updrs].fit(X, train.loc[:,(updrs + \"_slope\")])"
   ]
  },
  {
   "cell_type": "code",
   "execution_count": 24,
   "metadata": {},
   "outputs": [
    {
     "name": "stdout",
     "output_type": "stream",
     "text": [
      "['TNTNVNC(UniMod_4)PIEC(UniMod_4)FMPLDVQADREDSRE' 'P04275'\n",
      " 'VHVSEEGTEPEAMLQVLGPKPALPAGTEDTAKEDAANRK' ...\n",
      " 'KC(UniMod_4)SYTEDAQC(UniMod_4)IDGTIEVPK' 'QQTHMLDVMQDHFSR'\n",
      " 'SELEEQLTPVAEETR']\n"
     ]
    }
   ],
   "source": [
    "print(X.columns.values)"
   ]
  },
  {
   "cell_type": "code",
   "execution_count": 25,
   "metadata": {},
   "outputs": [
    {
     "data": {
      "text/plain": [
       "<function print>"
      ]
     },
     "execution_count": 25,
     "metadata": {},
     "output_type": "execute_result"
    }
   ],
   "source": [
    "print"
   ]
  },
  {
   "cell_type": "code",
   "execution_count": 26,
   "metadata": {},
   "outputs": [
    {
     "name": "stdout",
     "output_type": "stream",
     "text": [
      "[6.841286]\n"
     ]
    }
   ],
   "source": [
    "print(updrs_predictors[\"updrs_1\"].predict(test.iloc[0].values.reshape(1,-1)))"
   ]
  },
  {
   "cell_type": "code",
   "execution_count": 27,
   "metadata": {},
   "outputs": [
    {
     "name": "stdout",
     "output_type": "stream",
     "text": [
      "[[0.55713589]\n",
      " [0.41135769]\n",
      " [0.39578593]\n",
      " ...\n",
      " [0.77509819]\n",
      " [0.59227842]\n",
      " [0.44540207]]\n"
     ]
    }
   ],
   "source": [
    "print(X.iloc[0].values.reshape(-1,1))"
   ]
  },
  {
   "cell_type": "code",
   "execution_count": 28,
   "metadata": {},
   "outputs": [
    {
     "name": "stdout",
     "output_type": "stream",
     "text": [
      "['TNTNVNC(UniMod_4)PIEC(UniMod_4)FMPLDVQADREDSRE' 'P04275'\n",
      " 'VHVSEEGTEPEAMLQVLGPKPALPAGTEDTAKEDAANRK' ...\n",
      " 'KC(UniMod_4)SYTEDAQC(UniMod_4)IDGTIEVPK' 'QQTHMLDVMQDHFSR'\n",
      " 'SELEEQLTPVAEETR']\n"
     ]
    }
   ],
   "source": [
    "print(test.columns.values)"
   ]
  },
  {
   "cell_type": "code",
   "execution_count": null,
   "metadata": {},
   "outputs": [],
   "source": [
    "# Load sample submission fie\n",
    "output_doc = pd.read_csv(\"./example_test_files/sample_submission.csv\")\n",
    "output_doc = output_doc.drop(index=output_doc.index)\n",
    "\n",
    "#TODO: \n",
    "for patient in patient_id_test:\n",
    "    \n",
    "    visit_id = test_clinical.loc[patient].visit_id.values[0]\n",
    "    group_key = test_clinical.loc[patient].group_key.values[0]\n",
    "    \n",
    "    for updrs in updrs_cols:\n",
    "        \n",
    "        # Updrs values predicted with protein and peptides\n",
    "        updrs_prediction = updrs_predictors[updrs].predict(test.loc[patient].values.reshape(1,-1))\n",
    "        \n",
    "        prediction_id = f'{visit_id}_{updrs}_plus_0_months'\n",
    "        new_row = {'prediction_id': prediction_id, 'rating': int(updrs_prediction.round()), 'group_key': group_key}\n",
    "        output_doc = output_doc.append(new_row, ignore_index=True)\n",
    "        \n",
    "        # To get the slope\n",
    "        slope = updrs_slopes_predictors[updrs].predict(test.loc[patient].values.reshape(1,-1))\n",
    "                \n",
    "        for month in range(6, 25, 6):\n",
    "            \n",
    "            #Compute the evolution at a given month\n",
    "            updrs_prediction =  (updrs_prediction + slope * month)\n",
    "            prediction_id = f'{visit_id}_{updrs}_plus_{month}_months'\n",
    "            new_row = {'prediction_id': prediction_id, 'rating': int(updrs_prediction.round()), 'group_key': group_key}\n",
    "            output_doc = output_doc.append(new_row, ignore_index=True)\n",
    "\n",
    "output_doc.to_csv('submission.csv',  index = False)\n"
   ]
  },
  {
   "cell_type": "code",
   "execution_count": 51,
   "metadata": {},
   "outputs": [
    {
     "data": {
      "text/html": [
       "<div>\n",
       "<style scoped>\n",
       "    .dataframe tbody tr th:only-of-type {\n",
       "        vertical-align: middle;\n",
       "    }\n",
       "\n",
       "    .dataframe tbody tr th {\n",
       "        vertical-align: top;\n",
       "    }\n",
       "\n",
       "    .dataframe thead th {\n",
       "        text-align: right;\n",
       "    }\n",
       "</style>\n",
       "<table border=\"1\" class=\"dataframe\">\n",
       "  <thead>\n",
       "    <tr style=\"text-align: right;\">\n",
       "      <th></th>\n",
       "      <th>prediction_id</th>\n",
       "      <th>rating</th>\n",
       "      <th>group_key</th>\n",
       "    </tr>\n",
       "  </thead>\n",
       "  <tbody>\n",
       "    <tr>\n",
       "      <th>0</th>\n",
       "      <td>3342_0_updrs_1_plus_0_months</td>\n",
       "      <td>7</td>\n",
       "      <td>0</td>\n",
       "    </tr>\n",
       "    <tr>\n",
       "      <th>1</th>\n",
       "      <td>3342_0_updrs_1_plus_6_months</td>\n",
       "      <td>7</td>\n",
       "      <td>0</td>\n",
       "    </tr>\n",
       "    <tr>\n",
       "      <th>2</th>\n",
       "      <td>3342_0_updrs_1_plus_12_months</td>\n",
       "      <td>7</td>\n",
       "      <td>0</td>\n",
       "    </tr>\n",
       "    <tr>\n",
       "      <th>3</th>\n",
       "      <td>3342_0_updrs_1_plus_18_months</td>\n",
       "      <td>7</td>\n",
       "      <td>0</td>\n",
       "    </tr>\n",
       "    <tr>\n",
       "      <th>4</th>\n",
       "      <td>3342_0_updrs_1_plus_24_months</td>\n",
       "      <td>8</td>\n",
       "      <td>0</td>\n",
       "    </tr>\n",
       "    <tr>\n",
       "      <th>5</th>\n",
       "      <td>3342_0_updrs_2_plus_0_months</td>\n",
       "      <td>2</td>\n",
       "      <td>0</td>\n",
       "    </tr>\n",
       "    <tr>\n",
       "      <th>6</th>\n",
       "      <td>3342_0_updrs_2_plus_6_months</td>\n",
       "      <td>2</td>\n",
       "      <td>0</td>\n",
       "    </tr>\n",
       "    <tr>\n",
       "      <th>7</th>\n",
       "      <td>3342_0_updrs_2_plus_12_months</td>\n",
       "      <td>2</td>\n",
       "      <td>0</td>\n",
       "    </tr>\n",
       "    <tr>\n",
       "      <th>8</th>\n",
       "      <td>3342_0_updrs_2_plus_18_months</td>\n",
       "      <td>2</td>\n",
       "      <td>0</td>\n",
       "    </tr>\n",
       "    <tr>\n",
       "      <th>9</th>\n",
       "      <td>3342_0_updrs_2_plus_24_months</td>\n",
       "      <td>2</td>\n",
       "      <td>0</td>\n",
       "    </tr>\n",
       "    <tr>\n",
       "      <th>10</th>\n",
       "      <td>3342_0_updrs_3_plus_0_months</td>\n",
       "      <td>22</td>\n",
       "      <td>0</td>\n",
       "    </tr>\n",
       "    <tr>\n",
       "      <th>11</th>\n",
       "      <td>3342_0_updrs_3_plus_6_months</td>\n",
       "      <td>22</td>\n",
       "      <td>0</td>\n",
       "    </tr>\n",
       "    <tr>\n",
       "      <th>12</th>\n",
       "      <td>3342_0_updrs_3_plus_12_months</td>\n",
       "      <td>24</td>\n",
       "      <td>0</td>\n",
       "    </tr>\n",
       "    <tr>\n",
       "      <th>13</th>\n",
       "      <td>3342_0_updrs_3_plus_18_months</td>\n",
       "      <td>25</td>\n",
       "      <td>0</td>\n",
       "    </tr>\n",
       "    <tr>\n",
       "      <th>14</th>\n",
       "      <td>3342_0_updrs_3_plus_24_months</td>\n",
       "      <td>28</td>\n",
       "      <td>0</td>\n",
       "    </tr>\n",
       "    <tr>\n",
       "      <th>15</th>\n",
       "      <td>3342_0_updrs_4_plus_0_months</td>\n",
       "      <td>2</td>\n",
       "      <td>0</td>\n",
       "    </tr>\n",
       "    <tr>\n",
       "      <th>16</th>\n",
       "      <td>3342_0_updrs_4_plus_6_months</td>\n",
       "      <td>2</td>\n",
       "      <td>0</td>\n",
       "    </tr>\n",
       "    <tr>\n",
       "      <th>17</th>\n",
       "      <td>3342_0_updrs_4_plus_12_months</td>\n",
       "      <td>3</td>\n",
       "      <td>0</td>\n",
       "    </tr>\n",
       "    <tr>\n",
       "      <th>18</th>\n",
       "      <td>3342_0_updrs_4_plus_18_months</td>\n",
       "      <td>3</td>\n",
       "      <td>0</td>\n",
       "    </tr>\n",
       "    <tr>\n",
       "      <th>19</th>\n",
       "      <td>3342_0_updrs_4_plus_24_months</td>\n",
       "      <td>4</td>\n",
       "      <td>0</td>\n",
       "    </tr>\n",
       "    <tr>\n",
       "      <th>20</th>\n",
       "      <td>50423_0_updrs_1_plus_0_months</td>\n",
       "      <td>5</td>\n",
       "      <td>0</td>\n",
       "    </tr>\n",
       "    <tr>\n",
       "      <th>21</th>\n",
       "      <td>50423_0_updrs_1_plus_6_months</td>\n",
       "      <td>5</td>\n",
       "      <td>0</td>\n",
       "    </tr>\n",
       "    <tr>\n",
       "      <th>22</th>\n",
       "      <td>50423_0_updrs_1_plus_12_months</td>\n",
       "      <td>6</td>\n",
       "      <td>0</td>\n",
       "    </tr>\n",
       "    <tr>\n",
       "      <th>23</th>\n",
       "      <td>50423_0_updrs_1_plus_18_months</td>\n",
       "      <td>8</td>\n",
       "      <td>0</td>\n",
       "    </tr>\n",
       "    <tr>\n",
       "      <th>24</th>\n",
       "      <td>50423_0_updrs_1_plus_24_months</td>\n",
       "      <td>10</td>\n",
       "      <td>0</td>\n",
       "    </tr>\n",
       "    <tr>\n",
       "      <th>25</th>\n",
       "      <td>50423_0_updrs_2_plus_0_months</td>\n",
       "      <td>12</td>\n",
       "      <td>0</td>\n",
       "    </tr>\n",
       "    <tr>\n",
       "      <th>26</th>\n",
       "      <td>50423_0_updrs_2_plus_6_months</td>\n",
       "      <td>12</td>\n",
       "      <td>0</td>\n",
       "    </tr>\n",
       "    <tr>\n",
       "      <th>27</th>\n",
       "      <td>50423_0_updrs_2_plus_12_months</td>\n",
       "      <td>12</td>\n",
       "      <td>0</td>\n",
       "    </tr>\n",
       "    <tr>\n",
       "      <th>28</th>\n",
       "      <td>50423_0_updrs_2_plus_18_months</td>\n",
       "      <td>13</td>\n",
       "      <td>0</td>\n",
       "    </tr>\n",
       "    <tr>\n",
       "      <th>29</th>\n",
       "      <td>50423_0_updrs_2_plus_24_months</td>\n",
       "      <td>13</td>\n",
       "      <td>0</td>\n",
       "    </tr>\n",
       "  </tbody>\n",
       "</table>\n",
       "</div>"
      ],
      "text/plain": [
       "                     prediction_id  rating  group_key\n",
       "0     3342_0_updrs_1_plus_0_months       7          0\n",
       "1     3342_0_updrs_1_plus_6_months       7          0\n",
       "2    3342_0_updrs_1_plus_12_months       7          0\n",
       "3    3342_0_updrs_1_plus_18_months       7          0\n",
       "4    3342_0_updrs_1_plus_24_months       8          0\n",
       "5     3342_0_updrs_2_plus_0_months       2          0\n",
       "6     3342_0_updrs_2_plus_6_months       2          0\n",
       "7    3342_0_updrs_2_plus_12_months       2          0\n",
       "8    3342_0_updrs_2_plus_18_months       2          0\n",
       "9    3342_0_updrs_2_plus_24_months       2          0\n",
       "10    3342_0_updrs_3_plus_0_months      22          0\n",
       "11    3342_0_updrs_3_plus_6_months      22          0\n",
       "12   3342_0_updrs_3_plus_12_months      24          0\n",
       "13   3342_0_updrs_3_plus_18_months      25          0\n",
       "14   3342_0_updrs_3_plus_24_months      28          0\n",
       "15    3342_0_updrs_4_plus_0_months       2          0\n",
       "16    3342_0_updrs_4_plus_6_months       2          0\n",
       "17   3342_0_updrs_4_plus_12_months       3          0\n",
       "18   3342_0_updrs_4_plus_18_months       3          0\n",
       "19   3342_0_updrs_4_plus_24_months       4          0\n",
       "20   50423_0_updrs_1_plus_0_months       5          0\n",
       "21   50423_0_updrs_1_plus_6_months       5          0\n",
       "22  50423_0_updrs_1_plus_12_months       6          0\n",
       "23  50423_0_updrs_1_plus_18_months       8          0\n",
       "24  50423_0_updrs_1_plus_24_months      10          0\n",
       "25   50423_0_updrs_2_plus_0_months      12          0\n",
       "26   50423_0_updrs_2_plus_6_months      12          0\n",
       "27  50423_0_updrs_2_plus_12_months      12          0\n",
       "28  50423_0_updrs_2_plus_18_months      13          0\n",
       "29  50423_0_updrs_2_plus_24_months      13          0"
      ]
     },
     "execution_count": 51,
     "metadata": {},
     "output_type": "execute_result"
    }
   ],
   "source": [
    "output_doc.head(30)"
   ]
  }
 ],
 "metadata": {
  "kernelspec": {
   "display_name": "Python 3",
   "language": "python",
   "name": "python3"
  },
  "language_info": {
   "codemirror_mode": {
    "name": "ipython",
    "version": 3
   },
   "file_extension": ".py",
   "mimetype": "text/x-python",
   "name": "python",
   "nbconvert_exporter": "python",
   "pygments_lexer": "ipython3",
   "version": "3.10.9"
  },
  "orig_nbformat": 4
 },
 "nbformat": 4,
 "nbformat_minor": 2
}
